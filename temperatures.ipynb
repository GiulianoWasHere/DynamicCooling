{
 "cells": [
  {
   "cell_type": "code",
   "execution_count": 1,
   "metadata": {},
   "outputs": [],
   "source": [
    "from qubitcooling import DynamicCooling\n",
    "from qubitcooling import HeatBathCooling\n",
    "from qubitcooling import SemiOpenCooling\n",
    "from qubitcooling import MinimalWorkProtocol\n",
    "from qubitcooling import SubOptimalCooling"
   ]
  },
  {
   "cell_type": "code",
   "execution_count": 2,
   "metadata": {},
   "outputs": [
    {
     "data": {
      "text/plain": [
       "[3.322220703146593e-05,\n",
       " 0.0008909199999992596,\n",
       " 0.0056286631054690995,\n",
       " 0.01958144000000044,\n",
       " 0.04892730712890625,\n",
       " 0.09880866000000033,\n",
       " 0.1717192855273467,\n",
       " 0.2665676799999962,\n",
       " 0.3785790545507841,\n",
       " 0.5]"
      ]
     },
     "execution_count": 2,
     "metadata": {},
     "output_type": "execute_result"
    }
   ],
   "source": [
    "#Creation of a Unitary with the Minimal Work protocol with n qubits\n",
    "n = 9\n",
    "u = MinimalWorkProtocol(n)\n",
    "dy = DynamicCooling(u)\n",
    "dynamicCoolingList = []\n",
    "times = 10\n",
    "increment = 0.05\n",
    "#The excitedStateProbability is incremented of 0.05 each iteration\n",
    "for i in range(times):\n",
    "    dynamicCoolingList.append(dy.calculateFinalTemp((i+1)*increment))\n",
    "dynamicCoolingList"
   ]
  },
  {
   "cell_type": "code",
   "execution_count": 3,
   "metadata": {},
   "outputs": [
    {
     "data": {
      "text/plain": [
       "[0.0001579999999999724,\n",
       " 0.0023080000000000253,\n",
       " 0.010623999999999967,\n",
       " 0.030197999999999975,\n",
       " 0.06561199999999995,\n",
       " 0.11981200000000009,\n",
       " 0.19341700000000003,\n",
       " 0.28448400000000007,\n",
       " 0.38870999999999994,\n",
       " 0.5]"
      ]
     },
     "execution_count": 3,
     "metadata": {},
     "output_type": "execute_result"
    }
   ],
   "source": [
    "#Creation of a Unitary with the Minimal Work protocol with n qubits\n",
    "n = 3\n",
    "u = MinimalWorkProtocol(n)\n",
    "#Creation with r rounds\n",
    "r = 2\n",
    "dy = SubOptimalCooling(u,r,True)\n",
    "SubOptimalCoolingList = []\n",
    "times = 10\n",
    "increment = 0.05\n",
    "#The excitedStateProbability is incremented of 0.05 each iteration\n",
    "for i in range(times):\n",
    "    SubOptimalCoolingList.append(dy.calculateFinalTemp((i+1)*increment))\n",
    "SubOptimalCoolingList\n",
    "#dy.getCircuit().draw(\"mpl\",fold=maxsize)"
   ]
  },
  {
   "cell_type": "code",
   "execution_count": 4,
   "metadata": {},
   "outputs": [
    {
     "data": {
      "text/plain": [
       "[0.002766000000000036,\n",
       " 0.012288000000000045,\n",
       " 0.030708000000000013,\n",
       " 0.060303999999999976,\n",
       " 0.10296599999999995,\n",
       " 0.1596779999999999,\n",
       " 0.230138,\n",
       " 0.3125920000000001,\n",
       " 0.4039319999999999,\n",
       " 0.5]"
      ]
     },
     "execution_count": 4,
     "metadata": {},
     "output_type": "execute_result"
    }
   ],
   "source": [
    "#Creation of a Unitary with the Minimal Work protocol with n qubits\n",
    "n = 3\n",
    "u = MinimalWorkProtocol(n)\n",
    "#Creation with r rounds\n",
    "r = 4\n",
    "dy = SemiOpenCooling(u,r,True)\n",
    "SemiOpenCoolingList = []\n",
    "times = 10\n",
    "increment = 0.05\n",
    "#The excitedStateProbability is incremented of 0.05 each iteration\n",
    "for i in range(times):\n",
    "    SemiOpenCoolingList.append(dy.calculateFinalTemp((i+1)*increment))\n",
    "SemiOpenCoolingList"
   ]
  },
  {
   "cell_type": "code",
   "execution_count": 5,
   "metadata": {},
   "outputs": [
    {
     "data": {
      "text/plain": [
       "[3.322222900030983e-05,\n",
       " 0.0008909199999997384,\n",
       " 0.0056286631929995615,\n",
       " 0.01958144000000062,\n",
       " 0.048927307036998366,\n",
       " 0.09880866000000033,\n",
       " 0.17171928550899754,\n",
       " 0.2665676799999962,\n",
       " 0.3785790545630007,\n",
       " 0.5]"
      ]
     },
     "execution_count": 5,
     "metadata": {},
     "output_type": "execute_result"
    }
   ],
   "source": [
    "#Creation of a Unitary with the Minimal Work protocol with n qubits\n",
    "n = 9\n",
    "u = MinimalWorkProtocol(n)\n",
    "#Creation with r rounds\n",
    "#Not sure how many rounds would be the best\n",
    "r = 1\n",
    "dy = HeatBathCooling(u,r,True)\n",
    "HeatBathCoolingList = []\n",
    "times = 10\n",
    "increment = 0.05\n",
    "#The excitedStateProbability is incremented of 0.05 each iteration\n",
    "for i in range(times):\n",
    "    HeatBathCoolingList.append(dy.calculateFinalTemp((i+1)*increment))\n",
    "HeatBathCoolingList"
   ]
  }
 ],
 "metadata": {
  "kernelspec": {
   "display_name": ".venv",
   "language": "python",
   "name": "python3"
  },
  "language_info": {
   "codemirror_mode": {
    "name": "ipython",
    "version": 3
   },
   "file_extension": ".py",
   "mimetype": "text/x-python",
   "name": "python",
   "nbconvert_exporter": "python",
   "pygments_lexer": "ipython3",
   "version": "3.11.7"
  }
 },
 "nbformat": 4,
 "nbformat_minor": 2
}
