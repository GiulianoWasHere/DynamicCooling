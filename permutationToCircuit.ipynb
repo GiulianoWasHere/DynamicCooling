{
 "cells": [
  {
   "cell_type": "code",
   "execution_count": 386,
   "metadata": {},
   "outputs": [],
   "source": [
    "from sys import maxsize\n",
    "\n",
    "import numpy as np\n",
    "import itertools\n",
    "import math\n",
    "import matplotlib.pyplot as plt\n",
    "import qiskit as qk\n",
    "from qiskit import QuantumCircuit\n",
    "#from qiskit import Aer\n",
    "\n",
    "from qiskit_aer import AerSimulator\n",
    "from qiskit_ibm_runtime import QiskitRuntimeService\n",
    "#from qiskit.providers.aer import QasmSimulator\n",
    "import qiskit_aer.noise as noise\n",
    "from qiskit.circuit.library import UnitaryGate\n",
    "\n",
    "#My imports\n",
    "from coolingUnitary import CoolingUnitary\n",
    "from mirrorProtocol import MirrorProtocol\n",
    "from pairingPartnerAlgorithm import PairingPartnerAlgorithm\n",
    "from minimalWorkProtocol import MinimalWorkProtocol\n",
    "from utils import *"
   ]
  },
  {
   "cell_type": "code",
   "execution_count": 387,
   "metadata": {},
   "outputs": [],
   "source": [
    "backendName = \"ibm_osaka\""
   ]
  },
  {
   "cell_type": "code",
   "execution_count": 388,
   "metadata": {},
   "outputs": [],
   "source": [
    "service = QiskitRuntimeService()\n",
    "#sim_backend = service.backend(backendName)\n",
    "qasm_sim = AerSimulator()"
   ]
  },
  {
   "cell_type": "code",
   "execution_count": 389,
   "metadata": {},
   "outputs": [
    {
     "data": {
      "text/plain": [
       "\" qreg_q = QuantumRegister(3, 'q')\\ncreg_c = ClassicalRegister(3, 'c')\\ncircuit = QuantumCircuit(qreg_q, creg_c)\\n\\ncircuit.barrier()\\ncircuit.x(qreg_q[0])\\ncircuit.ccx(qreg_q[0], qreg_q[1], qreg_q[2])\\ncircuit.x(qreg_q[0])\\ncircuit.barrier()\\ncircuit.x(qreg_q[0])\\ncircuit.x(qreg_q[2])\\ncircuit.ccx(qreg_q[0], qreg_q[2], qreg_q[1])\\ncircuit.x(qreg_q[0])\\ncircuit.x(qreg_q[2])\\ncircuit.barrier()\\ncircuit.x(qreg_q[1])\\ncircuit.x(qreg_q[2])\\ncircuit.ccx(qreg_q[2], qreg_q[1], qreg_q[0])\\ncircuit.x(qreg_q[1])\\ncircuit.x(qreg_q[2])\\ncircuit.barrier()\\ncircuit.x(qreg_q[0])\\ncircuit.x(qreg_q[2])\\ncircuit.ccx(qreg_q[0], qreg_q[2], qreg_q[1])\\ncircuit.x(qreg_q[0])\\ncircuit.x(qreg_q[2])\\ncircuit.barrier()\\ncircuit.x(qreg_q[0])\\ncircuit.ccx(qreg_q[0], qreg_q[1], qreg_q[2])\\ncircuit.x(qreg_q[0]) \""
      ]
     },
     "execution_count": 389,
     "metadata": {},
     "output_type": "execute_result"
    }
   ],
   "source": [
    "from qiskit import QuantumRegister, ClassicalRegister, QuantumCircuit\n",
    "from numpy import pi\n",
    "\n",
    "\"\"\" qreg_q = QuantumRegister(3, 'q')\n",
    "creg_c = ClassicalRegister(3, 'c')\n",
    "circuit = QuantumCircuit(qreg_q, creg_c)\n",
    "\n",
    "circuit.barrier()\n",
    "circuit.x(qreg_q[0])\n",
    "circuit.ccx(qreg_q[0], qreg_q[1], qreg_q[2])\n",
    "circuit.x(qreg_q[0])\n",
    "circuit.barrier()\n",
    "circuit.x(qreg_q[0])\n",
    "circuit.x(qreg_q[2])\n",
    "circuit.ccx(qreg_q[0], qreg_q[2], qreg_q[1])\n",
    "circuit.x(qreg_q[0])\n",
    "circuit.x(qreg_q[2])\n",
    "circuit.barrier()\n",
    "circuit.x(qreg_q[1])\n",
    "circuit.x(qreg_q[2])\n",
    "circuit.ccx(qreg_q[2], qreg_q[1], qreg_q[0])\n",
    "circuit.x(qreg_q[1])\n",
    "circuit.x(qreg_q[2])\n",
    "circuit.barrier()\n",
    "circuit.x(qreg_q[0])\n",
    "circuit.x(qreg_q[2])\n",
    "circuit.ccx(qreg_q[0], qreg_q[2], qreg_q[1])\n",
    "circuit.x(qreg_q[0])\n",
    "circuit.x(qreg_q[2])\n",
    "circuit.barrier()\n",
    "circuit.x(qreg_q[0])\n",
    "circuit.ccx(qreg_q[0], qreg_q[1], qreg_q[2])\n",
    "circuit.x(qreg_q[0]) \"\"\"\n",
    "# @columns [1,1,1,2,3,4,5,5,5,6,6,7,8,8,9,9,9,10,10,11,12,12,13,13,13,14,14,15,16,16,17,17,17,18,19,20]"
   ]
  },
  {
   "cell_type": "code",
   "execution_count": 390,
   "metadata": {},
   "outputs": [
    {
     "data": {
      "text/plain": [
       "\" circuit.draw('mpl') \""
      ]
     },
     "execution_count": 390,
     "metadata": {},
     "output_type": "execute_result"
    }
   ],
   "source": [
    "\"\"\" circuit.draw('mpl') \"\"\""
   ]
  },
  {
   "cell_type": "code",
   "execution_count": 412,
   "metadata": {},
   "outputs": [],
   "source": [
    "def permutationToCircuit2(l):\n",
    "    if(len(l) > 0):\n",
    "        numQubit = len(l[0][0])\n",
    "        qreg_q = QuantumRegister(numQubit, 'q')\n",
    "        creg_c = ClassicalRegister(numQubit, 'c')\n",
    "        finalCircuit = QuantumCircuit(qreg_q, creg_c)\n",
    "        finalCircuit.barrier()\n",
    "        for i in range(len(l)):\n",
    "            #stateIn = l[i][0]\n",
    "            stateIn = l[i][0][::-1]\n",
    "            stack = []\n",
    "            #for j in range(numQubit-1,-1,-1):\n",
    "            for j in range(numQubit):\n",
    "                circuit = QuantumCircuit(qreg_q)\n",
    "                if(l[i][0][j] != l[i][1][j]):\n",
    "                    \n",
    "                    #Add X gates when the qubit is in the state 0 so all control are in the 1 state\n",
    "                    for z in range(len(stateIn)):\n",
    "                        if(z != j):\n",
    "                            if(stateIn[z] == '0'):\n",
    "                                circuit.x(z)\n",
    "\n",
    "                    \n",
    "                    #MCX Gate with target in the J position and control in the rest of the qubits\n",
    "                    rangeOfMCX = list(range(0,j)) + list(range(j+1,numQubit))\n",
    "                    #print(rangeOfMCX)\n",
    "                    #print(l[i][0][j] + \" \" + l[i][1][j])\n",
    "                    circuit.mcx(list(rangeOfMCX),j)\n",
    "\n",
    "                    #Add X gates when the qubit is in the state 0 so all control are in the 1 state\n",
    "                    for z in range(len(stateIn)):\n",
    "                        if(z != j):\n",
    "                            if(stateIn[z] == '0'):\n",
    "                                circuit.x(z)\n",
    "\n",
    "                    #Change the state in to match the state after applying the gate\n",
    "                    if(stateIn[j] == '0'):\n",
    "                        stateIn = stateIn[:j] + '1' + stateIn[j + 1:]\n",
    "                    else:\n",
    "                        stateIn = stateIn[:j] + '0' + stateIn[j + 1:]\n",
    "\n",
    "                    circuit.barrier()\n",
    "\n",
    "                    stack.append(circuit)\n",
    "                    finalCircuit = finalCircuit.compose(circuit)\n",
    "\n",
    "           \n",
    "            #Using the stack we create the uncomputation circuit\n",
    "            #We discard the first element since we don't need it for the uncompuation\n",
    "            stack.pop()\n",
    "            while(len(stack)):\n",
    "                finalCircuit = finalCircuit.compose(stack.pop())\n",
    "\n",
    "    return finalCircuit"
   ]
  },
  {
   "cell_type": "code",
   "execution_count": 547,
   "metadata": {},
   "outputs": [],
   "source": [
    "def permutationToCircuit(l):\n",
    "    if(len(l) > 0):\n",
    "        numQubit = len(l[0][0])\n",
    "        qreg_q = QuantumRegister(numQubit, 'q')\n",
    "        creg_c = ClassicalRegister(numQubit, 'c')\n",
    "        finalCircuit = QuantumCircuit(qreg_q, creg_c)\n",
    "        finalCircuit.barrier()\n",
    "        for i in range(len(l)):\n",
    "            #stateIn = l[i][0]\n",
    "            #print(l[i][0])\n",
    "            stateIn = l[i][0][::-1]\n",
    "            stack = []\n",
    "            for j in range(numQubit-1,-1,-1):\n",
    "                #The reason we use opposite is because how Qiskit handles the states\n",
    "                #The qubit we want to cool down is the n-th one\n",
    "                opposite = numQubit - j - 1            \n",
    "                circuit = QuantumCircuit(qreg_q)\n",
    "                if(l[i][0][j] != l[i][1][j]):\n",
    "                    \n",
    "                    #Add X gates when the qubit is in the state 0 so all control are in the 1 state\n",
    "                    for z in range(len(stateIn)):\n",
    "                        if(z != opposite):\n",
    "                            if(stateIn[z] == '0'):\n",
    "                                circuit.x(z)\n",
    "                    \n",
    "                    #MCX Gate with target in the (numQubit - j - 1) position and control in the rest of the qubits\n",
    "                    rangeOfMCX = list(range(0,opposite)) + list(range(opposite + 1,numQubit))\n",
    "                    #print(rangeOfMCX)\n",
    "                    #print(l[i][0][j] + \" \" + l[i][1][j])\n",
    "                    circuit.mcx(list(rangeOfMCX),opposite)\n",
    "\n",
    "                    #Add X gates when the qubit is in the state 0 so all control are in the 1 state             \n",
    "                    for z in range(len(stateIn)):\n",
    "                        if(z != opposite):\n",
    "                            if(stateIn[z] == '0'):\n",
    "                                circuit.x(z)\n",
    "\n",
    "                    #Change the state in to match the state after applying the gate              \n",
    "                    if(stateIn[opposite] == '0'):\n",
    "                        stateIn = stateIn[:opposite] + '1' + stateIn[opposite + 1:]\n",
    "                    else:\n",
    "                        stateIn = stateIn[:opposite] + '0' + stateIn[opposite + 1:]\n",
    "\n",
    "\n",
    "                    circuit.barrier()\n",
    "\n",
    "                    stack.append(circuit)\n",
    "                    finalCircuit = finalCircuit.compose(circuit)\n",
    "                    \n",
    "                \n",
    "\n",
    "           \n",
    "            #Using the stack we create the uncomputation circuit\n",
    "            #We discard the first element since we don't need it for the uncompuation\n",
    "            stack.pop()\n",
    "            while(len(stack)):\n",
    "                finalCircuit = finalCircuit.compose(stack.pop())\n",
    "\n",
    "    return finalCircuit"
   ]
  },
  {
   "cell_type": "code",
   "execution_count": 563,
   "metadata": {},
   "outputs": [],
   "source": [
    "def testCircuit(circuit):\n",
    "    n = circuit.num_qubits\n",
    "    num_circs = 2**n\n",
    "    circuits = []\n",
    "    q_regs = QuantumRegister(n, 'q')\n",
    "    c_regs = ClassicalRegister(n, 'c')\n",
    "    #make circuits\n",
    "    for i in range(num_circs):\n",
    "        total_circ = QuantumCircuit(q_regs, c_regs)\n",
    "        #prepare initial state\n",
    "        bitstring = format(i,'b').zfill(n)\n",
    "        idx = 0\n",
    "        for bit in bitstring[::-1]:\n",
    "        #for bit in bitstring:\n",
    "            if (bit == '1'):\n",
    "                total_circ.x(idx)\n",
    "            idx += 1\n",
    "        total_circ.barrier()\n",
    "        #add cooling circuits\n",
    "        #total_circ.compose(circuit, qubits=[q_regs[2],q_regs[1],q_regs[0]], inplace=True)\n",
    "        total_circ = total_circ.compose(circuit)\n",
    "        #total_circ.compose(cooling_circuit, qubits=[q_regs[0],q_regs[1],q_regs[2],q_regs[3],q_regs[4]], inplace=True)\n",
    "        #add measurement\n",
    "        total_circ.barrier()\n",
    "        total_circ.measure(list(range(n)), c_regs)\n",
    "        #total_circ.measure(0, c_regs)\n",
    "        #transpiledCircuit = qk.transpile(total_circ, backend=sim_backend,optimization_level=3)\n",
    "        circuits.append(total_circ)\n",
    "    \n",
    "    counts = []\n",
    "\n",
    "\n",
    "    print(format(0).zfill(1 + num_circs // 10) + \" | \",end=\"\")\n",
    "    for i in range(n-1,0,-1):\n",
    "        print(i,end=\"\")\n",
    "    print(0)\n",
    "    print(\"---------------------\")\n",
    "    for i in range(num_circs):\n",
    "        result = qasm_sim.run(circuits[i],shots = 1).result()\n",
    "        counts.append(result.get_counts())\n",
    "        #print(i, list(counts[i])[0])\n",
    "        if(format(i,'b').zfill(n) == list(counts[i])[0]):\n",
    "            print(format(i).zfill(1 + num_circs // 10) + \" | \" + format(i,'b').zfill(n) + \" --> \" + str(list(counts[i])[0]))\n",
    "        else:\n",
    "            print(format(i).zfill(1 + num_circs // 10) + \" | \" + format(i,'b').zfill(n) + \" --> \" + str(list(counts[i])[0]) + \" (*)\")\n",
    "    #return circuits"
   ]
  },
  {
   "cell_type": "code",
   "execution_count": 568,
   "metadata": {},
   "outputs": [
    {
     "data": {
      "text/html": [
       "<pre style=\"word-wrap: normal;white-space: pre;background: #fff0;line-height: 1.1;font-family: &quot;Courier New&quot;,Courier,monospace\">      ░      ┌───┐      ░                 ░      ┌───┐      ░ \n",
       "q_0: ─░──────┤ X ├──────░────────■────────░──────┤ X ├──────░─\n",
       "      ░ ┌───┐└─┬─┘┌───┐ ░ ┌───┐  │  ┌───┐ ░ ┌───┐└─┬─┘┌───┐ ░ \n",
       "q_1: ─░─┤ X ├──■──┤ X ├─░─┤ X ├──■──┤ X ├─░─┤ X ├──■──┤ X ├─░─\n",
       "      ░ ├───┤  │  ├───┤ ░ ├───┤  │  ├───┤ ░ ├───┤  │  ├───┤ ░ \n",
       "q_2: ─░─┤ X ├──■──┤ X ├─░─┤ X ├──■──┤ X ├─░─┤ X ├──■──┤ X ├─░─\n",
       "      ░ └───┘  │  └───┘ ░ └───┘┌─┴─┐└───┘ ░ └───┘  │  └───┘ ░ \n",
       "q_3: ─░────────■────────░──────┤ X ├──────░────────■────────░─\n",
       "      ░                 ░      └───┘      ░                 ░ \n",
       "c: 4/═════════════════════════════════════════════════════════\n",
       "                                                              </pre>"
      ],
      "text/plain": [
       "      ░      ┌───┐      ░                 ░      ┌───┐      ░ \n",
       "q_0: ─░──────┤ X ├──────░────────■────────░──────┤ X ├──────░─\n",
       "      ░ ┌───┐└─┬─┘┌───┐ ░ ┌───┐  │  ┌───┐ ░ ┌───┐└─┬─┘┌───┐ ░ \n",
       "q_1: ─░─┤ X ├──■──┤ X ├─░─┤ X ├──■──┤ X ├─░─┤ X ├──■──┤ X ├─░─\n",
       "      ░ ├───┤  │  ├───┤ ░ ├───┤  │  ├───┤ ░ ├───┤  │  ├───┤ ░ \n",
       "q_2: ─░─┤ X ├──■──┤ X ├─░─┤ X ├──■──┤ X ├─░─┤ X ├──■──┤ X ├─░─\n",
       "      ░ └───┘  │  └───┘ ░ └───┘┌─┴─┐└───┘ ░ └───┘  │  └───┘ ░ \n",
       "q_3: ─░────────■────────░──────┤ X ├──────░────────■────────░─\n",
       "      ░                 ░      └───┘      ░                 ░ \n",
       "c: 4/═════════════════════════════════════════════════════════\n",
       "                                                              "
      ]
     },
     "execution_count": 568,
     "metadata": {},
     "output_type": "execute_result"
    }
   ],
   "source": [
    "l = [[\"1000\",\"0001\"]]\n",
    "\n",
    "c = permutationToCircuit(l)\n",
    "\n",
    "c.draw(fold=maxsize)"
   ]
  },
  {
   "cell_type": "code",
   "execution_count": 571,
   "metadata": {},
   "outputs": [
    {
     "name": "stdout",
     "output_type": "stream",
     "text": [
      "00 | 3210\n",
      "---------------------\n",
      "00 | 0000 --> 0000\n",
      "01 | 0001 --> 1000 (*)\n",
      "02 | 0010 --> 0010\n",
      "03 | 0011 --> 0011\n",
      "04 | 0100 --> 0100\n",
      "05 | 0101 --> 0101\n",
      "06 | 0110 --> 0110\n",
      "07 | 0111 --> 0111\n",
      "08 | 1000 --> 0001 (*)\n",
      "09 | 1001 --> 1001\n",
      "10 | 1010 --> 1010\n",
      "11 | 1011 --> 1011\n",
      "12 | 1100 --> 1100\n",
      "13 | 1101 --> 1101\n",
      "14 | 1110 --> 1110\n",
      "15 | 1111 --> 1111\n"
     ]
    }
   ],
   "source": [
    "testCircuit(c)\n",
    "\n",
    "#circs[0].draw()"
   ]
  },
  {
   "cell_type": "code",
   "execution_count": 570,
   "metadata": {},
   "outputs": [
    {
     "name": "stdout",
     "output_type": "stream",
     "text": [
      "0 | 210\n",
      "---------------------\n",
      "0 | 000 --> 000\n",
      "1 | 001 --> 001\n",
      "2 | 010 --> 010\n",
      "3 | 011 --> 100 (*)\n",
      "4 | 100 --> 011 (*)\n",
      "5 | 101 --> 101\n",
      "6 | 110 --> 110\n",
      "7 | 111 --> 111\n"
     ]
    }
   ],
   "source": [
    "n = 3\n",
    "a = MinimalWorkProtocol(n,0.01)\n",
    "#checkUnitary(a)\n",
    "cooling_circuit = QuantumCircuit(n)\n",
    "cooling_circuit.append(UnitaryGate(a),range(n))\n",
    "\n",
    "testCircuit(cooling_circuit)\n"
   ]
  }
 ],
 "metadata": {
  "kernelspec": {
   "display_name": ".venv",
   "language": "python",
   "name": "python3"
  },
  "language_info": {
   "codemirror_mode": {
    "name": "ipython",
    "version": 3
   },
   "file_extension": ".py",
   "mimetype": "text/x-python",
   "name": "python",
   "nbconvert_exporter": "python",
   "pygments_lexer": "ipython3",
   "version": "3.11.7"
  }
 },
 "nbformat": 4,
 "nbformat_minor": 2
}
