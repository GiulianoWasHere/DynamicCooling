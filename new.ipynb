{
 "cells": [
  {
   "cell_type": "code",
   "execution_count": 1,
   "metadata": {},
   "outputs": [],
   "source": [
    "from qubitcooling import MinimalWorkProtocol\n",
    "from qubitcooling import PartnerPairingAlgorithm\n",
    "from qubitcooling import DynamicCooling\n",
    "from qubitcooling import CoolingUnitary\n",
    "from qubitcooling import HeatBathCooling\n",
    "from qubitcooling import SemiOpenCooling\n",
    "from qubitcooling import SubOptimalCooling\n",
    "from scipy.sparse import csr_array"
   ]
  },
  {
   "cell_type": "code",
   "execution_count": 3,
   "metadata": {},
   "outputs": [
    {
     "data": {
      "text/plain": [
       "0.027999999999999997"
      ]
     },
     "execution_count": 3,
     "metadata": {},
     "output_type": "execute_result"
    }
   ],
   "source": [
    "m = MinimalWorkProtocol(3)\n",
    "SubOptimalCooling(m,1).calculateFinalProbability(0.1)"
   ]
  },
  {
   "cell_type": "code",
   "execution_count": 3,
   "metadata": {},
   "outputs": [
    {
     "name": "stdout",
     "output_type": "stream",
     "text": [
      "  (1, 0)\t0.2\n",
      "  (2, 0)\t0.3\n",
      "  (3, 0)\t0.4\n",
      "  (4, 0)\t0.5\n",
      "  (5, 0)\t0.6\n",
      "  (6, 0)\t0.7\n",
      "  (7, 0)\t0.8\n",
      "[1 2 3 4 5 6 7]\n",
      "0.2\n",
      "0.3\n",
      "0.4\n"
     ]
    },
    {
     "name": "stderr",
     "output_type": "stream",
     "text": [
      "C:\\Users\\giuli\\AppData\\Local\\Temp\\ipykernel_11316\\3776304794.py:10: DeprecationWarning: `getcol` is deprecated and will be removed in v1.14.0; use `X[:, [0]]` instead.\n",
      "  a.getcol(0)\n"
     ]
    },
    {
     "data": {
      "text/plain": [
       "<8x1 sparse array of type '<class 'numpy.float64'>'\n",
       "\twith 7 stored elements in Compressed Sparse Row format>"
      ]
     },
     "execution_count": 3,
     "metadata": {},
     "output_type": "execute_result"
    }
   ],
   "source": [
    "a = csr_array([[0],[0.2],[0.3],[0.4],[0.5],[0.6],[0.7],[0.8]])  \n",
    "print(a)\n",
    "a.tocoo().row\n",
    "l = a.tocoo().row\n",
    "print(l)\n",
    "for i in range(len(l)):\n",
    "    if(l[i] < 4):\n",
    "        index = l[i]\n",
    "        print(a[[index]].data[0])\n",
    "a.getcol(0)"
   ]
  },
  {
   "cell_type": "code",
   "execution_count": 4,
   "metadata": {},
   "outputs": [
    {
     "name": "stdout",
     "output_type": "stream",
     "text": [
      "[[1 0 0 0 0 0 0 0]\n",
      " [0 1 0 0 0 0 0 0]\n",
      " [0 0 1 0 0 0 0 0]\n",
      " [0 0 0 0 1 0 0 0]\n",
      " [0 0 0 1 0 0 0 0]\n",
      " [0 0 0 0 0 1 0 0]\n",
      " [0 0 0 0 0 0 1 0]\n",
      " [0 0 0 0 0 0 0 1]]\n",
      "0 | 000 --> 000 | 0.7290000000000001\n",
      "1 | 001 --> 001 | 0.08100000000000002\n",
      "2 | 010 --> 010 | 0.08100000000000002\n",
      "3 | 011 --> 100 | 0.08100000000000002 (*)\n",
      "--------------------------\n",
      "4 | 100 --> 011 | 0.009000000000000003 (*)\n",
      "5 | 101 --> 101 | 0.009000000000000003\n",
      "6 | 110 --> 110 | 0.009000000000000003\n",
      "7 | 111 --> 111 | 0.0010000000000000002\n",
      "Lowest Element TOP LIST: 0.08100000000000002\n",
      "Highest Element TOP LIST: 0.7290000000000001\n",
      "Lowest Element BOT LIST: 0.0010000000000000002\n",
      "Highest Element BOT LIST: 0.009000000000000003\n"
     ]
    }
   ],
   "source": [
    "m = MinimalWorkProtocol(3)\n",
    "print(m.coolingUnitary.toarray())\n",
    "m.testUnitary(0.1)"
   ]
  },
  {
   "cell_type": "code",
   "execution_count": 5,
   "metadata": {},
   "outputs": [
    {
     "data": {
      "image/png": "[encoded data removed]",
      "text/plain": [
       "<Figure size 1876.11x284.278 with 1 Axes>"
      ]
     },
     "execution_count": 5,
     "metadata": {},
     "output_type": "execute_result"
    }
   ],
   "source": [
    "DynamicCooling(m,True).getCircuit().draw(\"mpl\",fold=999999999)\n"
   ]
  },
  {
   "cell_type": "code",
   "execution_count": 6,
   "metadata": {},
   "outputs": [
    {
     "data": {
      "text/plain": [
       "0.10440000000000002"
      ]
     },
     "execution_count": 6,
     "metadata": {},
     "output_type": "execute_result"
    }
   ],
   "source": [
    "m = MinimalWorkProtocol(5)\n",
    "m.calculateWorkCost(0.1)"
   ]
  },
  {
   "cell_type": "code",
   "execution_count": 7,
   "metadata": {},
   "outputs": [
    {
     "data": {
      "text/plain": [
       "0.10440000000000002"
      ]
     },
     "execution_count": 7,
     "metadata": {},
     "output_type": "execute_result"
    }
   ],
   "source": [
    "DynamicCooling(m).calculateWorkCost(0.1)"
   ]
  },
  {
   "cell_type": "code",
   "execution_count": 8,
   "metadata": {},
   "outputs": [
    {
     "data": {
      "text/plain": [
       "0.10439999999999998"
      ]
     },
     "execution_count": 8,
     "metadata": {},
     "output_type": "execute_result"
    }
   ],
   "source": [
    "HeatBathCooling(m,1).calculateWorkCost(0.1)"
   ]
  },
  {
   "cell_type": "code",
   "execution_count": 9,
   "metadata": {},
   "outputs": [
    {
     "data": {
      "text/plain": [
       "0.25357787"
      ]
     },
     "execution_count": 9,
     "metadata": {},
     "output_type": "execute_result"
    }
   ],
   "source": [
    "SemiOpenCooling(m,10).calculateWorkCost(0.1)"
   ]
  },
  {
   "cell_type": "code",
   "execution_count": null,
   "metadata": {},
   "outputs": [],
   "source": []
  },
  {
   "cell_type": "code",
   "execution_count": 10,
   "metadata": {},
   "outputs": [
    {
     "name": "stdout",
     "output_type": "stream",
     "text": [
      "[0.1, 0.1, 0.1, 0.1, 0.1]\n",
      "[[5.9049e-01 6.5610e-02 6.5610e-02 6.5610e-02 6.5610e-02 7.2900e-03\n",
      "  7.2900e-03 7.2900e-03 6.5610e-02 7.2900e-03 7.2900e-03 7.2900e-03\n",
      "  7.2900e-03 7.2900e-03 7.2900e-03 7.2900e-03 8.1000e-04 8.1000e-04\n",
      "  8.1000e-04 8.1000e-04 8.1000e-04 8.1000e-04 8.1000e-04 9.0000e-05\n",
      "  8.1000e-04 8.1000e-04 8.1000e-04 9.0000e-05 9.0000e-05 9.0000e-05\n",
      "  9.0000e-05 1.0000e-05]]\n",
      "[0.008560000000000073, 0.008560000000000073, 0.008560000000000073, 0.008560000000000073, 0.008560000000000073]\n",
      "[[9.5792649e-01 8.2706500e-03 8.2706500e-03 8.2706500e-03 8.2706500e-03\n",
      "  7.1410000e-05 7.1410000e-05 7.1410000e-05 8.2706500e-03 7.1410000e-05\n",
      "  7.1410000e-05 7.1410000e-05 7.1410000e-05 7.1410000e-05 7.1410000e-05\n",
      "  7.1410000e-05 6.2000000e-07 6.2000000e-07 6.2000000e-07 6.2000000e-07\n",
      "  6.2000000e-07 6.2000000e-07 6.2000000e-07 1.0000000e-08 6.2000000e-07\n",
      "  6.2000000e-07 6.2000000e-07 1.0000000e-08 1.0000000e-08 1.0000000e-08\n",
      "  1.0000000e-08 0.0000000e+00]]\n",
      "[6.1600000000479305e-06, 6.1600000000479305e-06, 6.1600000000479305e-06, 6.1600000000479305e-06, 6.1600000000479305e-06]\n",
      "[[9.999692e-01 6.160000e-06 6.160000e-06 6.160000e-06 6.160000e-06\n",
      "  0.000000e+00 0.000000e+00 0.000000e+00 6.160000e-06 0.000000e+00\n",
      "  0.000000e+00 0.000000e+00 0.000000e+00 0.000000e+00 0.000000e+00\n",
      "  0.000000e+00 0.000000e+00 0.000000e+00 0.000000e+00 0.000000e+00\n",
      "  0.000000e+00 0.000000e+00 0.000000e+00 0.000000e+00 0.000000e+00\n",
      "  0.000000e+00 0.000000e+00 0.000000e+00 0.000000e+00 0.000000e+00\n",
      "  0.000000e+00 0.000000e+00]]\n"
     ]
    },
    {
     "ename": "IndexError",
     "evalue": "index 0 is out of bounds for axis 0 with size 0",
     "output_type": "error",
     "traceback": [
      "\u001b[1;31m---------------------------------------------------------------------------\u001b[0m",
      "\u001b[1;31mIndexError\u001b[0m                                Traceback (most recent call last)",
      "Cell \u001b[1;32mIn[10], line 1\u001b[0m\n\u001b[1;32m----> 1\u001b[0m \u001b[43mSubOptimalCooling\u001b[49m\u001b[43m(\u001b[49m\u001b[43mm\u001b[49m\u001b[43m,\u001b[49m\u001b[38;5;241;43m3\u001b[39;49m\u001b[43m)\u001b[49m\u001b[38;5;241;43m.\u001b[39;49m\u001b[43mcalculateWorkCost\u001b[49m\u001b[43m(\u001b[49m\u001b[38;5;241;43m0.1\u001b[39;49m\u001b[43m)\u001b[49m\n",
      "File \u001b[1;32mc:\\VisualStudio\\GitDynamicCooling\\DynamicCooling\\qubitcooling\\subOptimalCooling.py:130\u001b[0m, in \u001b[0;36mSubOptimalCooling.calculateWorkCost\u001b[1;34m(self, excitedStateProbability, w)\u001b[0m\n\u001b[0;32m    128\u001b[0m     \u001b[38;5;28mprint\u001b[39m(finalVector\u001b[38;5;241m.\u001b[39mtoarray())\n\u001b[0;32m    129\u001b[0m     \u001b[38;5;28;01mfor\u001b[39;00m i \u001b[38;5;129;01min\u001b[39;00m \u001b[38;5;28mrange\u001b[39m(\u001b[38;5;28mint\u001b[39m(numberOfStates\u001b[38;5;241m/\u001b[39m\u001b[38;5;241m2\u001b[39m)):\n\u001b[1;32m--> 130\u001b[0m         finalprob \u001b[38;5;241m-\u001b[39m\u001b[38;5;241m=\u001b[39m \u001b[43mfinalVector\u001b[49m\u001b[43m[\u001b[49m\u001b[43m:\u001b[49m\u001b[43m,\u001b[49m\u001b[43m \u001b[49m\u001b[43m[\u001b[49m\u001b[43mi\u001b[49m\u001b[43m]\u001b[49m\u001b[43m]\u001b[49m\u001b[38;5;241;43m.\u001b[39;49m\u001b[43mdata\u001b[49m\u001b[43m[\u001b[49m\u001b[38;5;241;43m0\u001b[39;49m\u001b[43m]\u001b[49m\n\u001b[0;32m    131\u001b[0m     excitedStateProbability \u001b[38;5;241m=\u001b[39m \u001b[38;5;28mself\u001b[39m\u001b[38;5;241m.\u001b[39m_numQubits \u001b[38;5;241m*\u001b[39m [finalprob] \n\u001b[0;32m    132\u001b[0m \u001b[38;5;28;01mreturn\u001b[39;00m workcost\n",
      "\u001b[1;31mIndexError\u001b[0m: index 0 is out of bounds for axis 0 with size 0"
     ]
    }
   ],
   "source": [
    "SubOptimalCooling(m,3).calculateWorkCost(0.1)"
   ]
  },
  {
   "cell_type": "code",
   "execution_count": null,
   "metadata": {},
   "outputs": [
    {
     "data": {
      "text/plain": [
       "0.07200000000000001"
      ]
     },
     "execution_count": 5,
     "metadata": {},
     "output_type": "execute_result"
    }
   ],
   "source": [
    "m = MinimalWorkProtocol(4)\n",
    "m.calculateWorkCost(0.1)"
   ]
  },
  {
   "cell_type": "code",
   "execution_count": null,
   "metadata": {},
   "outputs": [
    {
     "data": {
      "text/plain": [
       "0.07200000000000001"
      ]
     },
     "execution_count": 6,
     "metadata": {},
     "output_type": "execute_result"
    }
   ],
   "source": [
    "m = MinimalWorkProtocol(3)\n",
    "m.calculateWorkCost(0.1)"
   ]
  },
  {
   "cell_type": "code",
   "execution_count": null,
   "metadata": {},
   "outputs": [
    {
     "data": {
      "text/plain": [
       "0.10440000000000002"
      ]
     },
     "execution_count": 7,
     "metadata": {},
     "output_type": "execute_result"
    }
   ],
   "source": [
    "m = MinimalWorkProtocol(5)\n",
    "m.calculateWorkCost(0.1)"
   ]
  },
  {
   "cell_type": "code",
   "execution_count": null,
   "metadata": {},
   "outputs": [
    {
     "data": {
      "text/plain": [
       "0.16344000000000003"
      ]
     },
     "execution_count": 8,
     "metadata": {},
     "output_type": "execute_result"
    }
   ],
   "source": [
    "m = PartnerPairingAlgorithm(5)\n",
    "m.calculateWorkCost(0.1)"
   ]
  }
 ],
 "metadata": {
  "kernelspec": {
   "display_name": ".venv",
   "language": "python",
   "name": "python3"
  },
  "language_info": {
   "codemirror_mode": {
    "name": "ipython",
    "version": 3
   },
   "file_extension": ".py",
   "mimetype": "text/x-python",
   "name": "python",
   "nbconvert_exporter": "python",
   "pygments_lexer": "ipython3",
   "version": "3.11.7"
  }
 },
 "nbformat": 4,
 "nbformat_minor": 2
}
